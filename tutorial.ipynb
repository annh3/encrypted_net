{
 "cells": [
  {
   "cell_type": "code",
   "execution_count": 1,
   "id": "skilled-circle",
   "metadata": {},
   "outputs": [],
   "source": [
    "import numpy as np"
   ]
  },
  {
   "cell_type": "code",
   "execution_count": 2,
   "id": "reverse-interference",
   "metadata": {},
   "outputs": [
    {
     "name": "stdout",
     "output_type": "stream",
     "text": [
      "\n",
      "Input:0.1\n",
      "Exact Sigmoid:0.52497918747894\n",
      "Approx Sigmoid:0.5249791874999999\n",
      "\n",
      "Input:0.2\n",
      "Exact Sigmoid:0.549833997312478\n",
      "Approx Sigmoid:0.549834\n",
      "\n",
      "Input:0.3\n",
      "Exact Sigmoid:0.574442516811659\n",
      "Approx Sigmoid:0.5744425624999999\n",
      "\n",
      "Input:0.4\n",
      "Exact Sigmoid:0.598687660112452\n",
      "Approx Sigmoid:0.598688\n",
      "\n",
      "Input:0.5\n",
      "Exact Sigmoid:0.6224593312018546\n",
      "Approx Sigmoid:0.6224609375000001\n",
      "\n",
      "Input:0.6\n",
      "Exact Sigmoid:0.6456563062257954\n",
      "Approx Sigmoid:0.6456620000000001\n",
      "\n",
      "Input:0.7\n",
      "Exact Sigmoid:0.6681877721681662\n",
      "Approx Sigmoid:0.6682043125000001\n",
      "\n",
      "Input:0.8\n",
      "Exact Sigmoid:0.6899744811276125\n",
      "Approx Sigmoid:0.690016\n",
      "\n",
      "Input:0.9\n",
      "Exact Sigmoid:0.7109495026250039\n",
      "Approx Sigmoid:0.7110426875\n",
      "\n",
      "Input:1.0\n",
      "Exact Sigmoid:0.7310585786300049\n",
      "Approx Sigmoid:0.73125\n"
     ]
    }
   ],
   "source": [
    "### Important functions\n",
    "\n",
    "def sigmoid_exact(x):\n",
    "    return 1 / (1 + np.exp(-x))\n",
    "\n",
    "# using taylor series\n",
    "def sigmoid_approximation(x):\n",
    "    return (1/2) + (x/4) - (x**3 / 48) + (x**5 / 480)\n",
    "\n",
    "for lil_number in [0.1,0.2,0.3,0.4,0.5,0.6,0.7,0.8,0.9,1.0]:\n",
    "    \n",
    "    print(\"\\nInput:\" + str(lil_number))\n",
    "    print(\"Exact Sigmoid:\" + str(sigmoid_exact(lil_number)))\n",
    "    print(\"Approx Sigmoid:\" + str(sigmoid_approximation(lil_number)))\n",
    "    \n"
   ]
  },
  {
   "cell_type": "markdown",
   "id": "worst-program",
   "metadata": {},
   "source": [
    "### Using Efficient Integer Vector Homomorphic Encryption\n",
    "\n",
    "* S: matrix that represents secret key\n",
    "* M: public key used to encrypt and perofrm oepations\n",
    "* c: ciphertext\n",
    "* x: plaintext\n",
    "* w: weighted scalar, used to tune signal/noise ratio. Making the signal bigger makes it less susceptible to noise at any given operation. However, making it too big increases the likelihood of corrupting the data entirely\n",
    "* E/e: noise\n"
   ]
  },
  {
   "cell_type": "markdown",
   "id": "postal-spine",
   "metadata": {},
   "source": [
    "$Sc = wx + e$\n",
    "\n",
    "and\n",
    "\n",
    "$x = \\lceil \\frac{Sc}{w} \\rfloor$"
   ]
  },
  {
   "cell_type": "markdown",
   "id": "impaired-poetry",
   "metadata": {},
   "source": [
    "* The general philosophy of Homomorphic Encryption techniques is to introduce just enough noise that the original message is hard to get back without the secret key, but small enough amount of noise that it amounts to a rounding error when you DO have the secret key\n",
    "* Encryption is about generating c so that this relationship is true\n",
    "* If S is a random matrix, then c will be hard to decrypt\n",
    "* The simpler, non-symmetric way of generating an encyrption key is just fidn the inverse of the secret key"
   ]
  },
  {
   "cell_type": "code",
   "execution_count": 3,
   "id": "surface-adolescent",
   "metadata": {},
   "outputs": [],
   "source": [
    "def generate_key(w,m,n):\n",
    "    # we want max(S) < w\n",
    "    S = (np.random.rand(m,n) * w / (2**16))\n",
    "    return S\n"
   ]
  },
  {
   "cell_type": "code",
   "execution_count": 4,
   "id": "collective-mounting",
   "metadata": {},
   "outputs": [],
   "source": [
    "def encrypt(x,S,m,n,w):\n",
    "    assert len(x) == len(S)\n",
    "    \n",
    "    e = (np.random.rand(m))\n",
    "    c = np.linalg.inv(S).dot((w*x) + e)\n",
    "    return c"
   ]
  },
  {
   "cell_type": "code",
   "execution_count": 5,
   "id": "faced-scout",
   "metadata": {},
   "outputs": [],
   "source": [
    "def decrypt(c,S,w):\n",
    "    return (S.dot(c) / w).astype('int')"
   ]
  },
  {
   "cell_type": "code",
   "execution_count": 6,
   "id": "coupled-distributor",
   "metadata": {},
   "outputs": [],
   "source": [
    "# convert ciphertext c from integer to binary representation\n",
    "\n",
    "def get_c_star(c,m,l):\n",
    "    c_star = np.zeros(l*m, dtype='int')\n",
    "    for i in range(m):\n",
    "        b = np.array(list(np.binary_repr(np.abs(c[i]))),dtype='int')\n",
    "        if (c[i] < 0):\n",
    "            b *= -1\n",
    "        c_star[(i*l) + (l-len(b)): (i+1) * l ] += b\n",
    "    return c_star"
   ]
  },
  {
   "cell_type": "code",
   "execution_count": 7,
   "id": "noted-window",
   "metadata": {},
   "outputs": [],
   "source": [
    "# convert S into 'gadget' form\n",
    "\n",
    "def get_S_star(S,m,n,l):\n",
    "    S_star = list()\n",
    "    for i in range(l):\n",
    "        S_star.append(S*2**(l-i-1))\n",
    "    S_star = np.array(S_star).transpose(1,2,0).rehape(m,n*l)\n",
    "    return S_star"
   ]
  },
  {
   "cell_type": "code",
   "execution_count": 8,
   "id": "dated-miniature",
   "metadata": {},
   "outputs": [],
   "source": [
    "### Let's try an example\n",
    "\n",
    "x = np.array([0,1,2,5])\n",
    "m = len(x)\n",
    "n = m\n",
    "w = 16\n",
    "S = generate_key(w,m,n)"
   ]
  },
  {
   "cell_type": "code",
   "execution_count": 9,
   "id": "stopped-syndicate",
   "metadata": {},
   "outputs": [
    {
     "data": {
      "text/plain": [
       "array([0, 1, 2, 5])"
      ]
     },
     "execution_count": 9,
     "metadata": {},
     "output_type": "execute_result"
    }
   ],
   "source": [
    "c = encrypt(x,S,m,n,w)\n",
    "decrypt(c,S,w)"
   ]
  },
  {
   "cell_type": "code",
   "execution_count": 10,
   "id": "moderate-creature",
   "metadata": {},
   "outputs": [
    {
     "data": {
      "text/plain": [
       "array([ 0,  2,  4, 10])"
      ]
     },
     "execution_count": 10,
     "metadata": {},
     "output_type": "execute_result"
    }
   ],
   "source": [
    "decrypt(c+c,S,w)"
   ]
  },
  {
   "cell_type": "code",
   "execution_count": 11,
   "id": "metallic-picture",
   "metadata": {},
   "outputs": [
    {
     "data": {
      "text/plain": [
       "array([ 0, 10, 20, 50])"
      ]
     },
     "execution_count": 11,
     "metadata": {},
     "output_type": "execute_result"
    }
   ],
   "source": [
    "decrypt(c*10,S,w)"
   ]
  },
  {
   "cell_type": "markdown",
   "id": "saving-missile",
   "metadata": {},
   "source": [
    "### Optimizing Encryption\n",
    "\n",
    "* The current encryption strategy doesn't make sense because "
   ]
  }
 ],
 "metadata": {
  "kernelspec": {
   "display_name": "Python 3",
   "language": "python",
   "name": "python3"
  },
  "language_info": {
   "codemirror_mode": {
    "name": "ipython",
    "version": 3
   },
   "file_extension": ".py",
   "mimetype": "text/x-python",
   "name": "python",
   "nbconvert_exporter": "python",
   "pygments_lexer": "ipython3",
   "version": "3.6.12"
  }
 },
 "nbformat": 4,
 "nbformat_minor": 5
}
