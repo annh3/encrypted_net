{
 "cells": [
  {
   "cell_type": "code",
   "execution_count": 1,
   "id": "skilled-circle",
   "metadata": {},
   "outputs": [],
   "source": [
    "import numpy as np\n",
    "import pdb"
   ]
  },
  {
   "cell_type": "code",
   "execution_count": 2,
   "id": "reverse-interference",
   "metadata": {},
   "outputs": [
    {
     "name": "stdout",
     "output_type": "stream",
     "text": [
      "\n",
      "Input:0.1\n",
      "Exact Sigmoid:0.52497918747894\n",
      "Approx Sigmoid:0.5249791874999999\n",
      "\n",
      "Input:0.2\n",
      "Exact Sigmoid:0.549833997312478\n",
      "Approx Sigmoid:0.549834\n",
      "\n",
      "Input:0.3\n",
      "Exact Sigmoid:0.574442516811659\n",
      "Approx Sigmoid:0.5744425624999999\n",
      "\n",
      "Input:0.4\n",
      "Exact Sigmoid:0.598687660112452\n",
      "Approx Sigmoid:0.598688\n",
      "\n",
      "Input:0.5\n",
      "Exact Sigmoid:0.6224593312018546\n",
      "Approx Sigmoid:0.6224609375000001\n",
      "\n",
      "Input:0.6\n",
      "Exact Sigmoid:0.6456563062257954\n",
      "Approx Sigmoid:0.6456620000000001\n",
      "\n",
      "Input:0.7\n",
      "Exact Sigmoid:0.6681877721681662\n",
      "Approx Sigmoid:0.6682043125000001\n",
      "\n",
      "Input:0.8\n",
      "Exact Sigmoid:0.6899744811276125\n",
      "Approx Sigmoid:0.690016\n",
      "\n",
      "Input:0.9\n",
      "Exact Sigmoid:0.7109495026250039\n",
      "Approx Sigmoid:0.7110426875\n",
      "\n",
      "Input:1.0\n",
      "Exact Sigmoid:0.7310585786300049\n",
      "Approx Sigmoid:0.73125\n"
     ]
    }
   ],
   "source": [
    "### Important functions\n",
    "\n",
    "def sigmoid_exact(x):\n",
    "    return 1 / (1 + np.exp(-x))\n",
    "\n",
    "# using taylor series\n",
    "def sigmoid_approximation(x):\n",
    "    return (1/2) + (x/4) - (x**3 / 48) + (x**5 / 480)\n",
    "\n",
    "for lil_number in [0.1,0.2,0.3,0.4,0.5,0.6,0.7,0.8,0.9,1.0]:\n",
    "    \n",
    "    print(\"\\nInput:\" + str(lil_number))\n",
    "    print(\"Exact Sigmoid:\" + str(sigmoid_exact(lil_number)))\n",
    "    print(\"Approx Sigmoid:\" + str(sigmoid_approximation(lil_number)))\n",
    "    \n"
   ]
  },
  {
   "cell_type": "markdown",
   "id": "worst-program",
   "metadata": {},
   "source": [
    "### Using Efficient Integer Vector Homomorphic Encryption\n",
    "\n",
    "* S: matrix that represents secret key\n",
    "* M: public key used to encrypt and perofrm oepations\n",
    "* c: ciphertext\n",
    "* x: plaintext\n",
    "* w: weighted scalar, used to tune signal/noise ratio. Making the signal bigger makes it less susceptible to noise at any given operation. However, making it too big increases the likelihood of corrupting the data entirely\n",
    "* E/e: noise\n"
   ]
  },
  {
   "cell_type": "markdown",
   "id": "postal-spine",
   "metadata": {},
   "source": [
    "$Sc = wx + e$\n",
    "\n",
    "and\n",
    "\n",
    "$x = \\lceil \\frac{Sc}{w} \\rfloor$"
   ]
  },
  {
   "cell_type": "markdown",
   "id": "impaired-poetry",
   "metadata": {},
   "source": [
    "* The general philosophy of Homomorphic Encryption techniques is to introduce just enough noise that the original message is hard to get back without the secret key, but small enough amount of noise that it amounts to a rounding error when you DO have the secret key\n",
    "* Encryption is about generating c so that this relationship is true\n",
    "* If S is a random matrix, then c will be hard to decrypt\n",
    "* The simpler, non-symmetric way of generating an encyrption key is just fidn the inverse of the secret key"
   ]
  },
  {
   "cell_type": "code",
   "execution_count": 3,
   "id": "surface-adolescent",
   "metadata": {},
   "outputs": [],
   "source": [
    "def generate_key(w,m,n):\n",
    "    # we want max(S) < w\n",
    "    S = (np.random.rand(m,n) * w / (2**16))\n",
    "    return S\n"
   ]
  },
  {
   "cell_type": "code",
   "execution_count": 4,
   "id": "collective-mounting",
   "metadata": {},
   "outputs": [],
   "source": [
    "def encrypt(x,S,m,n,w):\n",
    "    assert len(x) == len(S)\n",
    "    \n",
    "    e = (np.random.rand(m))\n",
    "    c = np.linalg.inv(S).dot((w*x) + e)\n",
    "    return c"
   ]
  },
  {
   "cell_type": "code",
   "execution_count": 5,
   "id": "faced-scout",
   "metadata": {},
   "outputs": [],
   "source": [
    "def decrypt(c,S,w):\n",
    "    return (S.dot(c) / w).astype('int')"
   ]
  },
  {
   "cell_type": "code",
   "execution_count": 6,
   "id": "dated-miniature",
   "metadata": {},
   "outputs": [],
   "source": [
    "### Let's try an example\n",
    "\n",
    "x = np.array([0,1,2,5])\n",
    "m = len(x)\n",
    "n = m\n",
    "w = 16\n",
    "S = generate_key(w,m,n)"
   ]
  },
  {
   "cell_type": "code",
   "execution_count": 7,
   "id": "stopped-syndicate",
   "metadata": {},
   "outputs": [
    {
     "data": {
      "text/plain": [
       "array([0, 1, 2, 5])"
      ]
     },
     "execution_count": 7,
     "metadata": {},
     "output_type": "execute_result"
    }
   ],
   "source": [
    "c = encrypt(x,S,m,n,w)\n",
    "decrypt(c,S,w)"
   ]
  },
  {
   "cell_type": "code",
   "execution_count": 8,
   "id": "moderate-creature",
   "metadata": {},
   "outputs": [
    {
     "data": {
      "text/plain": [
       "array([ 0,  2,  4, 10])"
      ]
     },
     "execution_count": 8,
     "metadata": {},
     "output_type": "execute_result"
    }
   ],
   "source": [
    "decrypt(c+c,S,w)"
   ]
  },
  {
   "cell_type": "code",
   "execution_count": 9,
   "id": "metallic-picture",
   "metadata": {},
   "outputs": [
    {
     "data": {
      "text/plain": [
       "array([ 0, 10, 20, 50])"
      ]
     },
     "execution_count": 9,
     "metadata": {},
     "output_type": "execute_result"
    }
   ],
   "source": [
    "decrypt(c*10,S,w)"
   ]
  },
  {
   "cell_type": "markdown",
   "id": "saving-missile",
   "metadata": {},
   "source": [
    "### Optimizing Encryption\n",
    "\n",
    "* The current encryption strategy doesn't make sense\n",
    "\n",
    "$Sc = wx + e$\n",
    "\n",
    "and\n",
    "\n",
    "$x = \\lceil \\frac{Sc}{w} \\rfloor$\n",
    "\n",
    "if the secret key $S$ is the identity matrix, then the cyphertext c is just a linearly weighted version of the message x\n",
    "\n",
    "* Instead of explicitly allocating a self-standing \"Public Key\" and \"Private Key\" the authors propose a \"Key Swtiching\" technique where they can swap out one Private Key S for another S'\n",
    "\n",
    "* Basically it involves finding a matrix M that can perform the transfomration\n",
    "\n",
    "* Since M has the ability to converg a message from being unencrypted (secret key of identity matrix) to being encrypted (secret key that's random and difficult to guess) M comes our public key\n",
    "\n",
    "i.e.\n",
    "\n",
    "* Because M performs the role of a \"one way encryption\" we call it the \"public key: "
   ]
  },
  {
   "cell_type": "markdown",
   "id": "chemical-investment",
   "metadata": {},
   "source": [
    "### Notes to self\n",
    "\n",
    "* To-do: read the paper again and understand key switching (diagram it out)\n",
    "* To-do: implement addition, linear transform, and weighted inner product"
   ]
  },
  {
   "cell_type": "code",
   "execution_count": 10,
   "id": "caring-divide",
   "metadata": {},
   "outputs": [],
   "source": [
    "# Let's remind ourselves of the dimensions\n",
    "# x is n-dimensional\n",
    "# c is m-dimensional\n",
    "# Sc = wx + e\n",
    "# S is n x m\n",
    "\n",
    "def get_c_star(c, m, l):\n",
    "    # the return type is length m * l\n",
    "    c_star = np.zeros(m*l, dtype='int')\n",
    "    for i in range(m):\n",
    "        # convert c[i] to binary\n",
    "        # you can use np.binary_rep(np.abs(c[i])), which returns a string type\n",
    "        #pdb.set_trace()\n",
    "        b = np.array(list(np.binary_repr(np.abs(c[i])))).astype('int')\n",
    "        if c[i] < 0:\n",
    "            b *= -1\n",
    "        start_idx = i*l + l - len(b)\n",
    "        end_idx = (i+1)*l\n",
    "        c_star[start_idx: end_idx] += b\n",
    "    return c_star\n",
    "\n",
    "\"\"\"\n",
    "Need to test this function\n",
    "\"\"\"\n",
    "def get_S_star(S, m, n, l):\n",
    "    S_star = np.zeros((n, m*l), dtype='int')\n",
    "    \n",
    "    # should make a base repr, to do elementwise mutliplication with\n",
    "    base_repr = np.zeros(l, dtype='int')\n",
    "    for i in range(l):\n",
    "        base_repr[l-i-1] = 2**i\n",
    "        \n",
    "    # for i in range(3) --> [0,1,2]\n",
    "    # idx 0: (3 - 2 - 1) 4\n",
    "    # idx 1: (3 - 1 - 1) 2\n",
    "    # idx 2: (3 - 0 - 1) 1\n",
    "    # [4,2,1]\n",
    "    print(base_repr)\n",
    "    \n",
    "    for i in range(n):\n",
    "        for j in range(m):\n",
    "            # expand S[i,j]\n",
    "            b_tmp = base_repr * S[i,j]\n",
    "            b_tmp = b_tmp.astype('int')\n",
    "            S_star[i, j*l: (j+1)*l] += b_tmp\n",
    "    \n",
    "    return S_star\n",
    "\n",
    "\"\"\"\n",
    "Initialize T as a random matrix\n",
    "This is natural because we generally \n",
    "generate random secret keys\n",
    "\"\"\"\n",
    "def get_T(n):\n",
    "    n_prime = n + 1\n",
    "    T = (10 * np.random.rand(n,n_prime - n)).astype('int')\n",
    "    return T\n",
    "\n"
   ]
  },
  {
   "cell_type": "markdown",
   "id": "round-afternoon",
   "metadata": {},
   "source": [
    "### Key Switch"
   ]
  },
  {
   "cell_type": "code",
   "execution_count": 11,
   "id": "complicated-quebec",
   "metadata": {},
   "outputs": [],
   "source": [
    "\"\"\"\n",
    "Why do we pass in T?\n",
    "\"\"\"\n",
    "def key_switch(c,S,m,n,T): # outputs S_out, c_out, M\n",
    "    # want abs(c) < 2^l\n",
    "    # thus, l > log_2 abs(c)\n",
    "    #pdb.set_trace()\n",
    "    l = int(np.ceil(np.log2(np.max(np.abs(c)))))\n",
    "    \n",
    "    # step 1, expand ciphertext and key into bit representation and gadget representation\n",
    "    c_star = get_c_star(c,m,l)\n",
    "    S_star = get_S_star(S, m, n, l)\n",
    "    n_prime = n + 1\n",
    "    \n",
    "    # The remainder is easy\n",
    "    \n",
    "    # we already have S_prime\n",
    "    # generate A, E to find M\n",
    "    # use M to calculate c_prime\n",
    "    \n",
    "    S_prime = np.concatenate((np.eye(m),T.T),0).T\n",
    "    A = (np.random.rand(n_prime-m,n*l)*10).astype('int')\n",
    "    E = (1*np.random.rand(S_star.shape[0],S_star.shape[1])).astype('int')\n",
    "    M = np.concatenate(((S_star - T.dot(A) + E), A),0)\n",
    "    c_prime = M.dot(c_star)\n",
    "    \n",
    "    return c_prime, S_prime\n",
    "    \n",
    "def encrypt_via_switch(x,w,m,n,T):\n",
    "    # assume S_in is I\n",
    "    c,S = key_switch(x*w, np.eye(m),m,n,T)\n",
    "    return c,S"
   ]
  },
  {
   "cell_type": "code",
   "execution_count": 12,
   "id": "effective-batch",
   "metadata": {},
   "outputs": [],
   "source": [
    "x = np.array([0,1,2,5])\n",
    "m = len(x)\n",
    "n = m\n",
    "w = 16\n",
    "\n",
    "T = get_T(n)\n",
    "\n"
   ]
  },
  {
   "cell_type": "code",
   "execution_count": 13,
   "id": "hybrid-astronomy",
   "metadata": {},
   "outputs": [
    {
     "data": {
      "text/plain": [
       "array([ 0, 16, 32, 80])"
      ]
     },
     "execution_count": 13,
     "metadata": {},
     "output_type": "execute_result"
    }
   ],
   "source": [
    "# initial value of Sc\n",
    "x*w"
   ]
  },
  {
   "cell_type": "code",
   "execution_count": 14,
   "id": "obvious-moscow",
   "metadata": {},
   "outputs": [
    {
     "name": "stdout",
     "output_type": "stream",
     "text": [
      "[64 32 16  8  4  2  1]\n"
     ]
    }
   ],
   "source": [
    "c,S = encrypt_via_switch(x,w,m,n,T)"
   ]
  },
  {
   "cell_type": "code",
   "execution_count": 15,
   "id": "effective-jacket",
   "metadata": {},
   "outputs": [
    {
     "data": {
      "text/plain": [
       "(array([-70, -54,  18,  38,  14]),\n",
       " array([[1., 0., 0., 0., 5.],\n",
       "        [0., 1., 0., 0., 5.],\n",
       "        [0., 0., 1., 0., 1.],\n",
       "        [0., 0., 0., 1., 3.]]))"
      ]
     },
     "execution_count": 15,
     "metadata": {},
     "output_type": "execute_result"
    }
   ],
   "source": [
    "c,S"
   ]
  },
  {
   "cell_type": "code",
   "execution_count": 16,
   "id": "welsh-publication",
   "metadata": {},
   "outputs": [
    {
     "data": {
      "text/plain": [
       "array([ 0., 16., 32., 80.])"
      ]
     },
     "execution_count": 16,
     "metadata": {},
     "output_type": "execute_result"
    }
   ],
   "source": [
    "# resulting value\n",
    "# my suspicion is the gadget matrix is wrong\n",
    "S.dot(c)"
   ]
  },
  {
   "cell_type": "markdown",
   "id": "passive-legend",
   "metadata": {},
   "source": [
    "### Notes to self\n",
    "\n",
    "Try to figure out the decryption algorithm"
   ]
  },
  {
   "cell_type": "code",
   "execution_count": 17,
   "id": "confident-flight",
   "metadata": {},
   "outputs": [],
   "source": [
    "def decrypt(c,S,w):\n",
    "    x = S.dot(c) / float(w)\n",
    "    return x"
   ]
  },
  {
   "cell_type": "code",
   "execution_count": 18,
   "id": "covered-street",
   "metadata": {},
   "outputs": [
    {
     "name": "stdout",
     "output_type": "stream",
     "text": [
      "[0. 1. 2. 5.]\n"
     ]
    }
   ],
   "source": [
    "x = decrypt(c,S,w)\n",
    "print(x)"
   ]
  },
  {
   "cell_type": "code",
   "execution_count": 19,
   "id": "editorial-mapping",
   "metadata": {},
   "outputs": [
    {
     "name": "stdout",
     "output_type": "stream",
     "text": [
      "[ 0. 16. 32. 80.]\n"
     ]
    }
   ],
   "source": [
    "print(S.dot(c))"
   ]
  },
  {
   "cell_type": "code",
   "execution_count": 20,
   "id": "electric-standard",
   "metadata": {},
   "outputs": [],
   "source": [
    "# hmm the scaling is wrong, seems like addition is happening"
   ]
  },
  {
   "cell_type": "markdown",
   "id": "dietary-generation",
   "metadata": {},
   "source": [
    "### Nice, ok... Let's implement\n",
    "\n",
    "1. Linear Transformation\n",
    "2. Weighted Inner product"
   ]
  },
  {
   "cell_type": "markdown",
   "id": "legal-belgium",
   "metadata": {},
   "source": [
    "### Linear Transformation\n",
    "\n",
    "Recall \n",
    "\n",
    "$c \\in \\mathbb{Z}^{n}$\n",
    "$x \\in \\mathbb{Z}^{m}$\n",
    "$S \\in \\mathbb{Z}^{m \\cdot n}$\n",
    "\n",
    "And now we have a linear transformation represented by\n",
    "\n",
    "$G \\in \\mathbb{Z}^{m' \\cdot n}$\n",
    "\n",
    "Which we usually apply to $x$ as $Gx$. However, now we wish to compute the linear transformation in homomorphic space.... Observe\n",
    "\n",
    "\\begin{align*}\n",
    "(GS) c &= G(wx + e) \\\\\n",
    "&= w Gx + Ge \\\\\n",
    "\\end{align*}"
   ]
  },
  {
   "cell_type": "markdown",
   "id": "going-attempt",
   "metadata": {},
   "source": [
    "Thus, we can view $c$ as the encryption of $Gx$ under secret key $GS$. \n",
    "\n",
    "We can input $GS$ and $c$ into the key switch algorithm to get $S', c'$. What's the motivation for doing this?"
   ]
  },
  {
   "cell_type": "markdown",
   "id": "binding-seating",
   "metadata": {},
   "source": [
    "In this model, the server currently knows $c$. The client wants to compute $G$ in homomorphic space but doesn't want to reveal to the server what $G$ is. By observing that $c$ is the encryption of $Gx$ under secret key $GS$, we \"switch our perspective\" from living in key space $S$ to living in key space $GS$ and then compute the key switch $GS \\rightarrow S'$"
   ]
  },
  {
   "cell_type": "markdown",
   "id": "meaning-devices",
   "metadata": {},
   "source": [
    "* The client computes $c, GS \\rightarrow c', S'$ as well as $M$\n",
    "\n",
    "Recall that \n",
    "\n",
    "$M = \\begin{bmatrix}S^{*} - TA + E \\\\A\\end{bmatrix}$\n",
    "\n",
    "Since $A$ and $E$ are both random matrices, we can see from the above equation that $M$ obscures the secret key $S^{*}$.\n",
    "\n",
    "* The server computes $c' = Mc$\n",
    "\n",
    "By representing the linear transformation as a key switch, we hide $G$ from the server. (Also maybe less noise accumulated?)\n",
    "\n"
   ]
  },
  {
   "cell_type": "code",
   "execution_count": null,
   "id": "perfect-quarterly",
   "metadata": {},
   "outputs": [],
   "source": [
    "def linear_transform(G,S,c):\n",
    "    "
   ]
  },
  {
   "cell_type": "markdown",
   "id": "instrumental-trance",
   "metadata": {},
   "source": [
    "### To-Do\n",
    "\n",
    "My question...\n",
    "\n",
    "If you have $x$ encrypted under $S$ as $c$, and a series of linear transformations $F,H,K$ which you want to perform on $x$, why not, as the client, just view the secret key as $(FHK) S$ ?"
   ]
  },
  {
   "cell_type": "code",
   "execution_count": null,
   "id": "infectious-museum",
   "metadata": {},
   "outputs": [],
   "source": []
  }
 ],
 "metadata": {
  "kernelspec": {
   "display_name": "Python 3",
   "language": "python",
   "name": "python3"
  },
  "language_info": {
   "codemirror_mode": {
    "name": "ipython",
    "version": 3
   },
   "file_extension": ".py",
   "mimetype": "text/x-python",
   "name": "python",
   "nbconvert_exporter": "python",
   "pygments_lexer": "ipython3",
   "version": "3.6.12"
  }
 },
 "nbformat": 4,
 "nbformat_minor": 5
}
